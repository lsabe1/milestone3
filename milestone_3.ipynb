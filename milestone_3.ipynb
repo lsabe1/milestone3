{
 "cells": [
  {
   "cell_type": "markdown",
   "metadata": {},
   "source": [
    "In the present work, I will try to analyze and obtain useful information about different behaviors and trends from the data obtained from an Airbnb 'dataframe' corresponding to the city of Barcelona. As reflected in this notebook, the work has not been completely smooth or perfect, but rather I have explored different options for visualizing the data. Additionally, in the initial phase, it has been challenging to choose which data to delete, which to consider, and how, considering the influence these decisions could have on the final results."
   ]
  },
  {
   "cell_type": "code",
   "execution_count": null,
   "metadata": {},
   "outputs": [],
   "source": [
    "import numpy as np\n",
    "import pandas as pd\n",
    "import matplotlib.pyplot as plt\n",
    "import seaborn as sns"
   ]
  },
  {
   "cell_type": "code",
   "execution_count": null,
   "metadata": {},
   "outputs": [],
   "source": [
    "path = '.\\listings.csv'\n",
    "df = pd.read_csv(path, index_col='id')"
   ]
  },
  {
   "cell_type": "code",
   "execution_count": null,
   "metadata": {},
   "outputs": [],
   "source": [
    "airbnb_data = df.copy()"
   ]
  },
  {
   "cell_type": "code",
   "execution_count": null,
   "metadata": {},
   "outputs": [],
   "source": [
    "airbnb_data.drop('license', axis=1, inplace=True)\n",
    "airbnb_data.dropna(axis = 0,how='any', subset=['last_review', 'reviews_per_month'],\n",
    "                    inplace=True)"
   ]
  },
  {
   "cell_type": "code",
   "execution_count": null,
   "metadata": {},
   "outputs": [
    {
     "data": {
      "text/plain": [
       "90.0"
      ]
     },
     "execution_count": 32,
     "metadata": {},
     "output_type": "execute_result"
    }
   ],
   "source": [
    "airbnb_data['is_replaced_na'] = airbnb_data.price.isna()\n",
    "\n",
    "price_median = airbnb_data.price.median()\n",
    "airbnb_data['price'].fillna(price_median, inplace = True)\n",
    "price_median"
   ]
  },
  {
   "cell_type": "code",
   "execution_count": null,
   "metadata": {},
   "outputs": [
    {
     "name": "stdout",
     "output_type": "stream",
     "text": [
      "250.0\n"
     ]
    }
   ],
   "source": [
    "# Calculate the first and third quartiles\n",
    "Q1 = df['price'].quantile(0.25)\n",
    "Q3 = df['price'].quantile(0.75)\n",
    "\n",
    "# Calculate the interquartile range (IQR)\n",
    "IQR = Q3 - Q1\n",
    "\n",
    "# Define the lower and upper bounds for outliers\n",
    "lower_bound = Q1 - 1.5 * IQR\n",
    "upper_bound = Q3 + 1.5 * IQR\n",
    "# Remove outliers\n",
    "# airbnb_data = airbnb_data[(airbnb_data['price'] > lower_bound) &\n",
    "#                            (airbnb_data['price'] < upper_bound)]\n",
    "airbnb_data['is_outlier_price'] = airbnb_data.price > upper_bound\n",
    "airbnb_data.loc[airbnb_data.price > upper_bound, 'price'] = upper_bound\n",
    "\n",
    "print(upper_bound)"
   ]
  },
  {
   "cell_type": "code",
   "execution_count": null,
   "metadata": {},
   "outputs": [
    {
     "name": "stderr",
     "output_type": "stream",
     "text": [
      "No artists with labels found to put in legend.  Note that artists whose label start with an underscore are ignored when legend() is called with no argument.\n"
     ]
    },
    {
     "data": {
      "image/png": "[encoded data removed]",
      "text/plain": [
       "<Figure size 720x432 with 1 Axes>"
      ]
     },
     "metadata": {
      "needs_background": "light"
     },
     "output_type": "display_data"
    }
   ],
   "source": [
    "\n",
    "import seaborn as sns\n",
    "import matplotlib.pyplot as plt\n",
    "\n",
    "# Plot the histogram of capped prices and outliers separately using Seaborn\n",
    "plt.figure(figsize=(10, 6))\n",
    "airbnb_data['is_replaced'] = airbnb_data.is_replaced_na.astype(str) + '_' + airbnb_data.is_outlier_price.astype(str)\n",
    "hue_order = ['True_False', 'False_True','False_False']\n",
    "sns.histplot(data=airbnb_data, x=\"price\", multiple='stack', \n",
    "             hue='is_replaced', hue_order=hue_order, legend=True)\n",
    "plt.axvline(airbnb_data.price.median() , color='red', linestyle='dashed', linewidth=2)\n",
    "plt.xlabel('Price')\n",
    "plt.ylabel('Frequency')\n",
    "plt.title('Histogram of Bedroom Prices (Outliers Stacked on Top of Capped Prices)')\n",
    "plt.legend()\n",
    "plt.show()"
   ]
  },
  {
   "cell_type": "markdown",
   "metadata": {},
   "source": [
    "Regarding data preprocessing:\n",
    "\n",
    "I had to decide whether to discard rows with 'NaNs' in the price column, and in that case, consider that I would lose all the information from those rows. One possibility to address this issue is to consider storing the 'NaNs' in the median so that I could still have the information from the rows. This could have been carried out, but we observe in this stacked histogram that there is a disproportionate accumulation of values, or, at least, in my opinion, excessive. Therefore, finally, I have decided to do away with these values.\n",
    "\n",
    "Another issue with this dataframe is the number of outliers and the exorbitant prices they reflect. For instance, we encounter a price exceeding 50k per night for accommodation in the Guinardó area. Not only is the price striking, but we can also affirm that it is an error when we further confirm that this neighborhood is completely outside both the affluent area ('Upper Diagonal') and the central area of Barcelona. In this histogram, I have also tried to provide a comprehensible visualization of how many values truly fall into the upper bound and which ones I have accumulated by choice at this point (meaning all outliers are concentrated in the upper bound). As we observe, we are also accumulating a large number of values, which may lead to result errors and consequently errors in the subsequent interpretation of the obtained data. Therefore, I have also decided to do away with the values corresponding to the outliers.\n",
    "\n",
    "As I was gathering more information on Airbnb, I noticed that some owners list their rooms with extremely high prices so no one will book them, in order to avoid having to take down the listing. That could also be a plausible exaplanation for outliers.\n",
    "\n"
   ]
  },
  {
   "cell_type": "code",
   "execution_count": null,
   "metadata": {},
   "outputs": [],
   "source": [
    "airbnb_data.drop('license', axis=1, inplace=True)\n",
    "airbnb_data.dropna(axis = 0,how='any', subset=['last_review', 'reviews_per_month'],\n",
    "                    inplace=True)\n",
    "# dropping rows w/ missing price\n",
    "airbnb_data.dropna(axis = 0, subset = ['price'], inplace=True)"
   ]
  },
  {
   "cell_type": "code",
   "execution_count": null,
   "metadata": {},
   "outputs": [],
   "source": [
    "# Here I'll calculate the first and third quartiles\n",
    "Q1 = df['price'].quantile(0.25)\n",
    "Q3 = df['price'].quantile(0.75)\n",
    "\n",
    "# Calculating the interquartile range (IQR)\n",
    "IQR = Q3 - Q1\n",
    "\n",
    "# Defining lower and upper bounds for outliers\n",
    "lower_bound = Q1 - 1.5 * IQR\n",
    "upper_bound = Q3 + 1.5 * IQR\n",
    "# removing outliers\n",
    "airbnb_data = airbnb_data[(airbnb_data['price'] > lower_bound) &\n",
    "                           (airbnb_data['price'] < upper_bound)]\n"
   ]
  },
  {
   "cell_type": "markdown",
   "metadata": {},
   "source": [
    "In the provided code, I use quartile-based statistics to identify and remove outliers from the 'price' column in my dataset. First, I calculate the first and third quartiles (Q1 and Q3) to determine the Interquartile Range (IQR), which captures the middle 50% of the data.\n",
    "\n",
    "Using the IQR, I establish lower and upper bounds for outlier detection at Q1 - 1.5 * IQR and Q3 + 1.5 * IQR, respectively. Data points outside this range are considered potential outliers.\n",
    "\n",
    "To remove outliers, I filter the 'price' column of my dataset to retain only values within the defined bounds. This ensures that extreme values, which can skew analyses and model performance, are not considered.\n",
    "\n",
    "Overall, this process enhances the reliability and accuracy of my data analysis by focusing on the most representative data points."
   ]
  },
  {
   "cell_type": "code",
   "execution_count": null,
   "metadata": {},
   "outputs": [],
   "source": [
    "#Here I'm splitting the 'name' column of the airbnb dataframe into individual elements based on the delimiter '·'\n",
    "names = airbnb_data['name'].str.split(' · ')\n",
    "\n",
    "#Defining functions to extract ratings and number of beds/bathrooms.. (features)\n",
    "def get_rating (name):\n",
    "    rating = [x[1:] for x in name if '★' in x]\n",
    "    if len(rating) == 0:\n",
    "        return 0.\n",
    "    else:\n",
    "        if rating[0] == 'New':\n",
    "            return 0.\n",
    "        return float(rating[0])\n",
    "    \n",
    "def get_features(name, feature_name, not_feature=None):\n",
    "    if not_feature == None:\n",
    "        feature = [x.split(' ')[0] for x in name if feature_name in x]\n",
    "    else:\n",
    "        feature = [x.split(' ')[0] for x in name if (feature_name in x and not_feature not in x)]\n",
    "    if len(feature) == 0:\n",
    "        return 0\n",
    "    else:\n",
    "        return feature[0]\n",
    "\n",
    "#creating new columns\n",
    "airbnb_data[['Bdg_type', 'Municipi']] = names.apply(lambda x: x[0]).str.split(' in ', expand=True)\n",
    "names = names.apply(lambda x: x[1:])\n",
    "airbnb_data['rating'] = names.apply(get_rating)\n",
    "airbnb_data['bedrooms'] = names.apply(get_features, args=('bedroom',))\n",
    "airbnb_data['beds'] = names.apply(get_features, args=('bed','bedrooms'))\n",
    "airbnb_data['bathrooms'] = names.apply(get_features, args=('bath',))\n",
    "\n",
    "airbnb_data.drop('name',axis=1,inplace=True)\n",
    "airbnb_data['bedrooms'] = airbnb_data['bedrooms'].astype(np.int64)\n",
    "airbnb_data['beds'] = airbnb_data['beds'].astype(np.int64)"
   ]
  },
  {
   "cell_type": "markdown",
   "metadata": {},
   "source": [
    "The get_rating() function extracts ratings marked with '★' symbols, converting them to floats. The get_features() function extracts specific features like bedrooms, beds, and bathrooms from the names, considering cases where certain features are not included.\n",
    "\n",
    "I create new columns for building type ('Bdg_type') and municipality ('Municipi'). I then apply the defined functions to extract ratings, bedrooms, beds, and bathrooms from the split names, populating the corresponding columns.\n",
    "\n",
    "Finally, I drop the original 'name' column and convert the extracted bedroom and bed counts to integer data types for consistency and further analysis. This process enhances my dataset's organization and prepares it for subsequent analyses."
   ]
  },
  {
   "cell_type": "markdown",
   "metadata": {},
   "source": [
    "The line of code performs a transformation on the original list of lists (elements), cleaning up each element within each sublist and storing the cleaned-up elements in a new list called cleaned_elements. This ensures that each element is properly formatted and ready for further processing or analysis. This process has been the most challenging, as I also encountered the issue that not all the 'strings' in the accommodation names consistently contained the same fields. That is to say, some did not have the corresponding review value because they had none, others lacked the number of bedrooms, etc. On the other hand, I also found that there were different ways to indicate the room types, although generally it was a numerical value (2, 3, 5...); at least once, the value 'private' or a float like '1.5' appeared."
   ]
  },
  {
   "cell_type": "code",
   "execution_count": null,
   "metadata": {},
   "outputs": [
    {
     "name": "stdout",
     "output_type": "stream",
     "text": [
      "<class 'pandas.core.frame.DataFrame'>\n",
      "Int64Index: 11794 entries, 17475 to 1037195344290857786\n",
      "Data columns (total 21 columns):\n",
      " #   Column                          Non-Null Count  Dtype  \n",
      "---  ------                          --------------  -----  \n",
      " 0   host_id                         11794 non-null  int64  \n",
      " 1   host_name                       11794 non-null  object \n",
      " 2   neighbourhood_group             11794 non-null  object \n",
      " 3   neighbourhood                   11794 non-null  object \n",
      " 4   latitude                        11794 non-null  float64\n",
      " 5   longitude                       11794 non-null  float64\n",
      " 6   room_type                       11794 non-null  object \n",
      " 7   price                           11794 non-null  float64\n",
      " 8   minimum_nights                  11794 non-null  int64  \n",
      " 9   number_of_reviews               11794 non-null  int64  \n",
      " 10  last_review                     11794 non-null  object \n",
      " 11  reviews_per_month               11794 non-null  float64\n",
      " 12  calculated_host_listings_count  11794 non-null  int64  \n",
      " 13  availability_365                11794 non-null  int64  \n",
      " 14  number_of_reviews_ltm           11794 non-null  int64  \n",
      " 15  Bdg_type                        11794 non-null  object \n",
      " 16  Municipi                        11794 non-null  object \n",
      " 17  rating                          11794 non-null  float64\n",
      " 18  bedrooms                        11794 non-null  int64  \n",
      " 19  beds                            11794 non-null  int64  \n",
      " 20  bathrooms                       11794 non-null  object \n",
      "dtypes: float64(5), int64(8), object(8)\n",
      "memory usage: 2.0+ MB\n"
     ]
    }
   ],
   "source": [
    "airbnb_data.info()"
   ]
  },
  {
   "cell_type": "code",
   "execution_count": null,
   "metadata": {},
   "outputs": [],
   "source": [
    "import matplotlib.pyplot as plt\n",
    "\n",
    "# Create a figure and subplots\n",
    "fig, axs = plt.subplots(1, 2, figsize=(12, 6))\n",
    "\n",
    "# Plot for \"Apartment\" property type\n",
    "axs[0].hist(airbnb_data[airbnb_data['property_type'] == 'Apartment']['price'], bins=20, color='skyblue', edgecolor='black')\n",
    "axs[0].set_title('Histogram of Prices for Apartments')\n",
    "axs[0].set_xlabel('Price in US Dollars per Night')\n",
    "axs[0].set_ylabel('Frequency')\n",
    "\n",
    "# Plot for \"House\" property type\n",
    "axs[1].hist(airbnb_data[airbnb_data['property_type'] == 'House']['price'], bins=20, color='salmon', edgecolor='black')\n",
    "axs[1].set_title('Histogram of Prices for Houses')\n",
    "axs[1].set_xlabel('Price in US Dollars per Night')\n",
    "axs[1].set_ylabel('Frequency')\n",
    "\n",
    "# Adjust layout\n",
    "plt.tight_layout()\n",
    "\n",
    "\n",
    "# Show plots\n",
    "plt.show()"
   ]
  },
  {
   "cell_type": "code",
   "execution_count": null,
   "metadata": {},
   "outputs": [],
   "source": [
    "pivot_table = pd.pivot_table(airbnb_data[airbnb_data['Bdg_type'] == 'Apartment'], \n",
    "                             index='Municipi', \n",
    "                             aggfunc='size')\n",
    "\n",
    "# Reshape the pivot table into a DataFrame\n",
    "heatmap_data = pivot_table.reset_index().rename(columns={0: 'Apartment Count'})\n",
    "\n",
    "# Create a heatmap\n",
    "plt.figure(figsize=(10, 8))\n",
    "sns.heatmap(data=heatmap_data.pivot_table(index='Municipi', columns='Apartment Count', aggfunc=len),\n",
    "            cmap='viridis',\n",
    "            annot=True,\n",
    "            fmt='g',\n",
    "            cbar_kws={'label': 'Number of Apartments'})\n",
    "plt.title('Airbnb Apartment Concentration by Neighborhood')\n",
    "plt.xlabel('Apartment Count')\n",
    "plt.ylabel('Neighborhood')\n",
    "plt.show()"
   ]
  },
  {
   "cell_type": "markdown",
   "metadata": {},
   "source": [
    "Conclusions:\n",
    "\n",
    "\n",
    "\n",
    "What I learned:\n",
    "\n",
    "The utility of stacked histograms: I learned how to use stacked histograms to detect if the data preprocessing done so far is appropriate.\n",
    "\n",
    "Use of the \"~\" sign in conditions: I discovered how to use the \"~\" sign to write conditions and indicate that one condition is opposite to another we have defined, which is useful in data filtering.\n",
    "\n",
    "Using columns for histograms via booleans: I learned to use columns as booleans in histograms, applying conditions (for example, 'is_NaN') to obtain a list of values and visualize the data clearly once they are stacked.\n"
   ]
  }
 ],
 "metadata": {
  "kernelspec": {
   "display_name": "Python 3",
   "language": "python",
   "name": "python3"
  },
  "language_info": {
   "codemirror_mode": {
    "name": "ipython",
    "version": 3
   },
   "file_extension": ".py",
   "mimetype": "text/x-python",
   "name": "python",
   "nbconvert_exporter": "python",
   "pygments_lexer": "ipython3",
   "version": "3.9.12"
  }
 },
 "nbformat": 4,
 "nbformat_minor": 2
}
